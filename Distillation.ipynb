{
 "cells": [
  {
   "cell_type": "code",
   "execution_count": 1,
   "metadata": {},
   "outputs": [
    {
     "data": {
      "text/html": [
       "\n",
       "            <div id=\"asFbAE\"></div>\n",
       "            <script type=\"text/javascript\" data-lets-plot-script=\"library\">\n",
       "                if(!window.letsPlotCallQueue) {\n",
       "                    window.letsPlotCallQueue = [];\n",
       "                }; \n",
       "                window.letsPlotCall = function(f) {\n",
       "                    window.letsPlotCallQueue.push(f);\n",
       "                };\n",
       "                (function() {\n",
       "                    var script = document.createElement(\"script\");\n",
       "                    script.type = \"text/javascript\";\n",
       "                    script.src = \"https://cdnjs.cloudflare.com/ajax/libs/lets-plot/2.0.2/lets-plot.min.js\";\n",
       "                    script.onload = function() {\n",
       "                        window.letsPlotCall = function(f) {f();};\n",
       "                        window.letsPlotCallQueue.forEach(function(f) {f();});\n",
       "                        window.letsPlotCallQueue = [];\n",
       "                        \n",
       "                    };\n",
       "                    script.onerror = function(event) {\n",
       "                        window.letsPlotCall = function(f) {};    // noop\n",
       "                        window.letsPlotCallQueue = [];\n",
       "                        var div = document.createElement(\"div\");\n",
       "                        div.style.color = 'darkred';\n",
       "                        div.textContent = 'Error loading Lets-Plot JS';\n",
       "                        document.getElementById(\"asFbAE\").appendChild(div);\n",
       "                    };\n",
       "                    var e = document.getElementById(\"asFbAE\");\n",
       "                    e.appendChild(script);\n",
       "                })()\n",
       "            </script>\n",
       "            "
      ]
     },
     "metadata": {},
     "output_type": "display_data"
    },
    {
     "data": {
      "text/plain": [
       "False"
      ]
     },
     "execution_count": 1,
     "metadata": {},
     "output_type": "execute_result"
    }
   ],
   "source": [
    "import numpy as np\n",
    "import pandas as pd\n",
    "import matplotlib.pyplot as plt\n",
    "from lets_plot import *\n",
    "LetsPlot.setup_html()\n",
    "\n",
    "\n",
    "from tqdm.notebook import tqdm\n",
    "\n",
    "import torch\n",
    "torch.cuda.is_available()"
   ]
  },
  {
   "cell_type": "code",
   "execution_count": 2,
   "metadata": {},
   "outputs": [],
   "source": [
    "# from datalore.display import *"
   ]
  },
  {
   "cell_type": "code",
   "execution_count": 3,
   "metadata": {},
   "outputs": [],
   "source": [
    "from sklearn.model_selection import train_test_split\n",
    "from sklearn.metrics import accuracy_score\n",
    "from sklearn.metrics import confusion_matrix"
   ]
  },
  {
   "cell_type": "code",
   "execution_count": 4,
   "metadata": {},
   "outputs": [],
   "source": [
    "from matplotlib.figure import Figure\n",
    "from matplotlib.axes import Axes"
   ]
  },
  {
   "cell_type": "code",
   "execution_count": 5,
   "metadata": {},
   "outputs": [],
   "source": [
    "import itertools"
   ]
  },
  {
   "cell_type": "code",
   "execution_count": 6,
   "metadata": {},
   "outputs": [],
   "source": [
    "def plot_digit(digit, size=8, caption=None):\n",
    "    digit = digit.reshape(size, size)\n",
    "    digit = (digit - np.min(digit))/(np.max(digit) - np.min(digit))\n",
    "    p = ggplot() + geom_image(image_data=digit) + labs(x='', y='') \\\n",
    "        + theme(axis_line='blank', axis_title='blank', axis_ticks='blank', axis_text='blank')\n",
    "    if caption:\n",
    "        p += ggtitle(caption)\n",
    "    return p;"
   ]
  },
  {
   "cell_type": "code",
   "execution_count": 7,
   "metadata": {},
   "outputs": [],
   "source": [
    "def gg_confusion_matrix(y, y_hat):\n",
    "    conf_mat = confusion_matrix(y, y_hat)[::-1]\n",
    "    confusion_dat = pd.DataFrame(conf_mat)\n",
    "    observed = confusion_dat.columns.values\n",
    "    actual = confusion_dat.index.values\n",
    "    xx, yy = np.meshgrid(actual, observed)\n",
    "    xx = xx.reshape(-1)\n",
    "    yy = yy.reshape(-1)\n",
    "    zz = conf_mat.reshape(-1)\n",
    "    dat = {'predicted':xx, 'actual':yy[::-1], 'z':zz}\n",
    "    p = ggplot(dat, aes('predicted', 'actual', fill='z')) \\\n",
    "        + geom_raster() \\\n",
    "        + geom_text(aes(label='z'), color='white')\\\n",
    "        + theme(legend_position='none', axis_ticks='blank', axis_line='blank')\\\n",
    "        + ggsize(500, 500) + scale_x_discrete() + scale_y_discrete()\\\n",
    "        + ggtitle('Confusion matrix')\n",
    "    return p"
   ]
  },
  {
   "cell_type": "code",
   "execution_count": 8,
   "metadata": {},
   "outputs": [],
   "source": [
    "def f1_score_micro(conf_matrix):\n",
    "    num_tags = conf_matrix.shape[0]\n",
    "    score = 0.\n",
    "    pr, p, r = 0., 0., 0.\n",
    "    for tag in range(num_tags):\n",
    "        pr += conf_matrix[tag, tag]\n",
    "        p += sum(conf_matrix[tag, :])\n",
    "        r += sum(conf_matrix[:, tag])\n",
    "    try:\n",
    "        score = 2 * pr / (p + r)\n",
    "    except ZeroDivisionError:\n",
    "        pass\n",
    "    return score"
   ]
  },
  {
   "cell_type": "code",
   "execution_count": 9,
   "metadata": {},
   "outputs": [],
   "source": [
    "def plot_confusion_matrix(conf_matrix, labels, title='Confusion matrix', cmap='Oranges'):\n",
    "    norm_cm = conf_matrix / conf_matrix.sum(axis=0)\n",
    "    norm_cm[norm_cm != norm_cm] = .0  # eliminate NaN\n",
    "\n",
    "    fig = Figure(figsize=(7, 7), dpi=120, facecolor='w', edgecolor='k')\n",
    "    ax: Axes = fig.add_subplot(1, 1, 1)\n",
    "    ax.set_title(label=title)\n",
    "\n",
    "    ax.imshow(norm_cm, cmap=cmap)\n",
    "    tick_marks = np.arange(len(labels))\n",
    "\n",
    "    ax.set_xlabel('Actual', fontsize=7)\n",
    "    ax.set_xticks(tick_marks)\n",
    "    ax.set_xticklabels(labels, fontsize=6, rotation=-90, ha='center')\n",
    "    ax.xaxis.set_label_position('bottom')\n",
    "    ax.xaxis.tick_bottom()\n",
    "\n",
    "    ax.set_ylabel('Predicted', fontsize=7)\n",
    "    ax.set_yticks(tick_marks)\n",
    "    ax.set_yticklabels(labels, fontsize=6, va='center')\n",
    "    ax.yaxis.set_label_position('left')\n",
    "    ax.yaxis.tick_left()\n",
    "\n",
    "    for i, j in itertools.product(range(conf_matrix.shape[0]), range(conf_matrix.shape[1])):\n",
    "        ax.text(j, i, format(int(conf_matrix[i, j]), 'd') if conf_matrix[i, j] != 0 else '.',\n",
    "        horizontalalignment='center', verticalalignment='center', fontsize=6, color='black')\n",
    "    fig.set_tight_layout('true')\n",
    "    return fig"
   ]
  },
  {
   "cell_type": "code",
   "execution_count": 10,
   "metadata": {},
   "outputs": [],
   "source": [
    "from matplotlib.figure import Figure\n",
    "from matplotlib.axes import Axes"
   ]
  },
  {
   "cell_type": "code",
   "execution_count": 11,
   "metadata": {},
   "outputs": [],
   "source": [
    "import matplotlib.ticker as ticker"
   ]
  },
  {
   "cell_type": "code",
   "execution_count": 12,
   "metadata": {},
   "outputs": [],
   "source": [
    "import itertools"
   ]
  },
  {
   "cell_type": "code",
   "execution_count": 13,
   "metadata": {},
   "outputs": [],
   "source": [
    "def plot_confusion_matrix(conf_matrix, labels, title='Confusion matrix', cmap: str='Oranges'):\n",
    "    norm_cm = conf_matrix / conf_matrix.sum(axis=0)\n",
    "    norm_cm[norm_cm != norm_cm] = .0  # eliminate NaN\n",
    "    \n",
    "    fig: Figure = Figure(figsize=(7, 7))\n",
    "    ax: Axes = fig.add_subplot(1, 1, 1)\n",
    "    ax.set_title(label=title)\n",
    "\n",
    "    ax.matshow(norm_cm, cmap=cmap)\n",
    "    ax.set_xlabel('Actual')\n",
    "    ax.set_ylabel('Predicted')\n",
    "\n",
    "    ax.set_xticklabels([''] + labels, rotation=90)\n",
    "    ax.set_yticklabels([''] + labels)\n",
    "    ax.xaxis.set_major_locator(ticker.MultipleLocator(1))\n",
    "    ax.yaxis.set_major_locator(ticker.MultipleLocator(1))\n",
    "\n",
    "    ax.grid(False)\n",
    "    plt.tight_layout()\n",
    "\n",
    "    for i, j in itertools.product(range(conf_matrix.shape[0]), range(conf_matrix.shape[1])):\n",
    "        ax.text(j, i, format(int(conf_matrix[i, j]), 'd') if conf_matrix[i, j] != 0 else '.',\n",
    "                horizontalalignment='center', verticalalignment='center', fontsize=6, color='black')\n",
    "    fig.set_tight_layout('true')\n",
    "    return fig"
   ]
  },
  {
   "cell_type": "code",
   "execution_count": 14,
   "metadata": {},
   "outputs": [],
   "source": [
    "from copy import copy\n",
    "import inspect\n",
    "import functools"
   ]
  },
  {
   "cell_type": "code",
   "execution_count": 15,
   "metadata": {},
   "outputs": [],
   "source": [
    "from typing import List, Optional, Union, Callable\n",
    "import json\n",
    "import time"
   ]
  },
  {
   "cell_type": "markdown",
   "metadata": {},
   "source": [
    "# Problem 2 (6.0) Model Distillation\n",
    "\n",
    "На лекции мы упоминали Model Distillation в контексте DistillBert от HuggingFace. В этом задании вам предлагается применить дистилляцию к произвольной модели и попробовать добиться сокращения размера модели-ученика при почти полном сохранении качества по сравнению с моделью-учителем.\n",
    "\n",
    "Посмотрите следующее [руководство](https://habr.com/ru/company/avito/blog/485290/) и попробуйте применить описанные идеи к какой-либо модели. Не обязательно брать BERT, вполне подойдет BiLSTM или что-то подобное, для чего известны метрики на каком-либо датасете.\n",
    "\n",
    "Ссылки на GitHub или Colab c решением размещайте на этой странице. "
   ]
  },
  {
   "cell_type": "code",
   "execution_count": 16,
   "metadata": {},
   "outputs": [],
   "source": [
    "import torch\n",
    "from torch import nn, optim\n",
    "from torch.utils.data import DataLoader\n",
    "import torch.nn.functional as F\n",
    "from torch.utils.data import Dataset\n",
    "\n",
    "from torchvision import transforms, datasets\n",
    "from torchvision.datasets import CIFAR10"
   ]
  },
  {
   "cell_type": "code",
   "execution_count": 17,
   "metadata": {},
   "outputs": [],
   "source": [
    "def normalize_channel(image, eps=1e-4):\n",
    "    nom = image.max() - image\n",
    "    denom = image.max() - image.min()\n",
    "    image_ = torch.zeros_like(image)\n",
    "    if denom > 0:\n",
    "        return nom / (denom + eps)\n",
    "    else:\n",
    "        return torch.zeros_like(image)\n",
    "\n",
    "def normalize_image(image):\n",
    "    image_ = torch.zeros_like(image)\n",
    "    for i, channel in enumerate(image):\n",
    "        image_[i] = normalize_channel(channel)\n",
    "    return image_"
   ]
  },
  {
   "cell_type": "code",
   "execution_count": 18,
   "metadata": {},
   "outputs": [],
   "source": [
    "def load_cifar10(train=True, data_path='./data'):\n",
    "    transformers = []\n",
    "    if train:\n",
    "        transformers.extend([transforms.RandomHorizontalFlip(), transforms.RandomCrop(size=(32, 32), padding=4)])\n",
    "    transformers.append(transforms.ToTensor())\n",
    "    transformers.append(transforms.Normalize((0.5, 0.5, 0.5), (0.5, 0.5, 0.5)))\n",
    "    return CIFAR10(data_path, train=train, download=True, transform=transforms.Compose(transformers))"
   ]
  },
  {
   "cell_type": "code",
   "execution_count": 19,
   "metadata": {},
   "outputs": [
    {
     "name": "stdout",
     "output_type": "stream",
     "text": [
      "Files already downloaded and verified\n",
      "Files already downloaded and verified\n"
     ]
    }
   ],
   "source": [
    "train = load_cifar10(train=True)\n",
    "all_test = load_cifar10(train=False)"
   ]
  },
  {
   "cell_type": "code",
   "execution_count": 20,
   "metadata": {},
   "outputs": [],
   "source": [
    "class SublistDataset(Dataset):\n",
    "    def __init__(self, dataset, start, end):\n",
    "        self.__dataset = dataset\n",
    "        self.__start = start\n",
    "        self.__end = end\n",
    "\n",
    "    def __getitem__(self, index):\n",
    "        return self.__dataset[index - self.__start]\n",
    "\n",
    "    def __len__(self):\n",
    "        return self.__end - self.__start"
   ]
  },
  {
   "cell_type": "markdown",
   "metadata": {},
   "source": [
    "## Load data"
   ]
  },
  {
   "cell_type": "code",
   "execution_count": 21,
   "metadata": {},
   "outputs": [
    {
     "name": "stdout",
     "output_type": "stream",
     "text": [
      "train: 50000/50000 test: 200/10000\n"
     ]
    }
   ],
   "source": [
    "# test = SublistDataset(all_test, 1000, 10000)\n",
    "# dev = SublistDataset(all_test, 0, 1000)\n",
    "# dev_small = SublistDataset(all_test, 0, 200)\n",
    "\n",
    "# dev_train = SublistDataset(train, 0, 5000)\n",
    "dev_train = train\n",
    "dev_test = SublistDataset(all_test, 0, 200)\n",
    "\n",
    "\n",
    "# print(f'train: {len(train)} test: {len(test)} dev: {len(dev)} dev_small: {len(dev_small)}')\n",
    "print(f'train: {len(dev_train)}/{len(train)} test: {len(dev_test)}/{len(all_test)}')"
   ]
  },
  {
   "cell_type": "markdown",
   "metadata": {},
   "source": [
    "## Define ResNet"
   ]
  },
  {
   "cell_type": "code",
   "execution_count": 22,
   "metadata": {},
   "outputs": [],
   "source": [
    "def make_conv(channels):\n",
    "    return nn.Conv2d(channels, channels, kernel_size=(3, 3), stride=1, padding=1)\n",
    "\n",
    "class SimpleBlock(nn.Module):\n",
    "    def __init__(self, channels):\n",
    "        super(SimpleBlock, self).__init__()\n",
    "        self.conv1 = make_conv(channels)\n",
    "        self.bn1 = nn.BatchNorm2d(channels)\n",
    "        self.conv2 = make_conv(channels)\n",
    "        self.bn2 = nn.BatchNorm2d(channels)\n",
    "        \n",
    "    def forward(self, x):\n",
    "        c1 = F.relu(self.bn1(self.conv1(x)))\n",
    "        c2 = self.bn2(self.conv2(c1))\n",
    "        return F.relu(x + c2)\n",
    "\n",
    "class DownBlock(nn.Module):\n",
    "    def __init__(self, in_chan):\n",
    "        super(DownBlock, self).__init__()\n",
    "        self.out_chan = in_chan * 2\n",
    "        self.conv1 = nn.Conv2d(in_chan, self.out_chan, kernel_size=(3, 3), stride=2, padding=1)\n",
    "        self.conv2 = make_conv(self.out_chan)\n",
    "        self.bn2 = nn.BatchNorm2d(self.out_chan)\n",
    "        self.conv_down = nn.Conv2d(in_chan, self.out_chan, kernel_size=(1, 1), stride=2, bias=False)\n",
    "        self.bn_down = nn.BatchNorm2d(self.out_chan)\n",
    "\n",
    "        self.bn_down.weight.data.fill_(1)\n",
    "        self.bn_down.bias.data.fill_(0)\n",
    "\n",
    "        self.bn1 = nn.BatchNorm2d(self.out_chan)\n",
    "\n",
    "    def forward(self, x):\n",
    "        c1 = F.relu(self.bn1(self.conv1(x)))\n",
    "        c2 = self.bn2(self.conv2(c1))\n",
    "        down = self.bn_down(self.conv_down(x))\n",
    "        return F.relu(down + c2)"
   ]
  },
  {
   "cell_type": "code",
   "execution_count": 23,
   "metadata": {},
   "outputs": [],
   "source": [
    "class ResNet(nn.Module):\n",
    "    def __init__(self, n):\n",
    "        super(ResNet, self).__init__()\n",
    "\n",
    "        self.conv1 = nn.Conv2d(3, 16, (3, 3), stride=1, padding=1)\n",
    "        self.bn1 = nn.BatchNorm2d(16)\n",
    "\n",
    "        self.seq32_32 = nn.Sequential()\n",
    "        for i in range(n):\n",
    "            self.seq32_32.add_module(str(i), SimpleBlock(16))\n",
    "\n",
    "        self.seq16_16 = nn.Sequential()\n",
    "        for i in range(n):\n",
    "            if i == 0:\n",
    "                self.seq16_16.add_module(str(i), DownBlock(16))\n",
    "            else:\n",
    "                self.seq16_16.add_module(str(i), SimpleBlock(32))\n",
    "\n",
    "        self.seq8_8 = nn.Sequential()\n",
    "        for i in range(n):\n",
    "            if i == 0:\n",
    "                self.seq8_8.add_module(str(i), DownBlock(32))\n",
    "            else:\n",
    "                self.seq8_8.add_module(str(i), SimpleBlock(64))\n",
    "\n",
    "        self.fc = nn.Linear(64, 10)\n",
    "\n",
    "    def forward(self, x):\n",
    "        x = F.relu(self.bn1(self.conv1(x)))\n",
    "\n",
    "        s32_32 = self.seq32_32(x)\n",
    "        s16_16 = self.seq16_16(s32_32)\n",
    "        s8_8 = self.seq8_8(s16_16)\n",
    "\n",
    "        features = F.avg_pool2d(s8_8, (8, 8))\n",
    "        flat = features.view(features.size()[0], -1)\n",
    "\n",
    "        return self.fc(flat)"
   ]
  },
  {
   "cell_type": "code",
   "execution_count": 24,
   "metadata": {},
   "outputs": [],
   "source": [
    "loss = nn.CrossEntropyLoss()\n",
    "\n",
    "def train_epoch(model, loader, opt):\n",
    "    model.train(True)\n",
    "    for i, data in enumerate(loader, 0):\n",
    "        X, y = data[0], data[1]\n",
    "\n",
    "        opt.zero_grad()\n",
    "        y_ = model(X)\n",
    "        loss_value = loss(y_.float(), y)\n",
    "        loss_value.backward()\n",
    "        opt.step()\n",
    "\n",
    "def get_accuracy_on(model, dataset, batch=128):\n",
    "    model.train(mode=False)\n",
    "\n",
    "    loader = DataLoader(dataset, batch_size=batch)\n",
    "\n",
    "    total_samples = 0\n",
    "    total_correct = 0\n",
    "\n",
    "    for batch in loader:\n",
    "        X, y = batch[0], batch[1]\n",
    "\n",
    "        y_ = model(X)\n",
    "        _, y_ = torch.max(y_, dim=1)\n",
    "\n",
    "        total_samples += len(y)\n",
    "        sum_ = torch.sum(torch.eq(y_, y).type(torch.FloatTensor))\n",
    "        total_correct += sum_.item()\n",
    "\n",
    "    return total_correct / total_samples\n",
    "\n",
    "def train_resnet(model, epochs=100, batch_size=128):\n",
    "    opt = optim.SGD(model.parameters(), lr=0.1, weight_decay=0.0001, momentum=0.9)\n",
    "    #opt = optim.SGD(model.parameters(), lr=0.1, weight_decay=0.0001, momentum=0.9)\n",
    "    #opt = optim.Adam(model.parameters(), lr=0.001, weight_decay=0.0001)\n",
    "    accuracies = []\n",
    "    train_loader = DataLoader(dev_train, batch_size=batch_size)\n",
    "    for epoch in tqdm(range(epochs)):\n",
    "        if epoch == 40 or epoch == 80:\n",
    "            for pg in opt.param_groups:\n",
    "                pg['lr'] /= 10.0\n",
    "\n",
    "        train_epoch(model, train_loader, opt)\n",
    "        acc = get_accuracy_on(model, dev_test)\n",
    "        accuracies.append(acc)\n",
    "        print(f'\\r epoch: [{epoch+1}/{epochs}], accuracy: {acc}', end='')\n",
    "        \n",
    "    total_acc = get_accuracy_on(model, all_test)\n",
    "    print (f\"\\naccuracy on all_test: {total_acc}\")\n",
    "    return accuracies"
   ]
  },
  {
   "cell_type": "markdown",
   "metadata": {},
   "source": [
    "## Choose student and teacher"
   ]
  },
  {
   "cell_type": "code",
   "execution_count": 25,
   "metadata": {},
   "outputs": [],
   "source": [
    "student_model = ResNet(n=2) # RESNET-10\n",
    "teacher_model = ResNet(n=5) # RESNET-22"
   ]
  },
  {
   "cell_type": "markdown",
   "metadata": {},
   "source": [
    "## Train student without teacher"
   ]
  },
  {
   "cell_type": "code",
   "execution_count": 26,
   "metadata": {},
   "outputs": [
    {
     "data": {
      "application/vnd.jupyter.widget-view+json": {
       "model_id": "f8f1e10f179143d08350de61c9d55021",
       "version_major": 2,
       "version_minor": 0
      },
      "text/plain": [
       "  0%|          | 0/100 [00:00<?, ?it/s]"
      ]
     },
     "metadata": {},
     "output_type": "display_data"
    },
    {
     "name": "stdout",
     "output_type": "stream",
     "text": [
      " epoch: [100/100], accuracy: 0.905\n",
      "accuracy on all_test: 0.8929\n"
     ]
    }
   ],
   "source": [
    "epochs=100\n",
    "student_accuracies = train_resnet(student_model, epochs=epochs)\n",
    "\n",
    "student_model = ResNet(n=2) # refresh student_model"
   ]
  },
  {
   "cell_type": "code",
   "execution_count": 27,
   "metadata": {},
   "outputs": [
    {
     "data": {
      "image/png": "[encoded data removed]",
      "text/plain": [
       "<Figure size 1080x360 with 1 Axes>"
      ]
     },
     "metadata": {
      "needs_background": "light"
     },
     "output_type": "display_data"
    }
   ],
   "source": [
    "dat = pd.DataFrame({'a':student_accuracies})\n",
    "dat['epoch'] = np.arange(epochs)\n",
    "\n",
    "fig, ax = plt.subplots(1, 1, figsize=(15,5))\n",
    "ax.plot(dat['epoch'], dat['a'], color='black', label='Accuracy')\n",
    "ax.legend();"
   ]
  },
  {
   "cell_type": "markdown",
   "metadata": {},
   "source": [
    "## Train teacher"
   ]
  },
  {
   "cell_type": "code",
   "execution_count": 28,
   "metadata": {},
   "outputs": [
    {
     "data": {
      "application/vnd.jupyter.widget-view+json": {
       "model_id": "965e39129faf4de6b71211c79e95f25e",
       "version_major": 2,
       "version_minor": 0
      },
      "text/plain": [
       "  0%|          | 0/100 [00:00<?, ?it/s]"
      ]
     },
     "metadata": {},
     "output_type": "display_data"
    },
    {
     "name": "stdout",
     "output_type": "stream",
     "text": [
      " epoch: [100/100], accuracy: 0.925\n",
      "accuracy on all_test: 0.9092\n"
     ]
    }
   ],
   "source": [
    "epochs=100\n",
    "# DEBUG! teacher_model = student_model\n",
    "teacher_accuracies = train_resnet(teacher_model, epochs=epochs)\n",
    "# DEBUG! teacher_accuracies = student_accuracies"
   ]
  },
  {
   "cell_type": "code",
   "execution_count": 29,
   "metadata": {},
   "outputs": [
    {
     "data": {
      "image/png": "[encoded data removed]",
      "text/plain": [
       "<Figure size 1080x360 with 1 Axes>"
      ]
     },
     "metadata": {
      "needs_background": "light"
     },
     "output_type": "display_data"
    }
   ],
   "source": [
    "dat = pd.DataFrame({'a':teacher_accuracies})\n",
    "dat['epoch'] = np.arange(epochs)\n",
    "\n",
    "fig, ax = plt.subplots(1, 1, figsize=(15,5))\n",
    "ax.plot(dat['epoch'], dat['a'], color='blue', label='Accuracy')\n",
    "ax.legend();"
   ]
  },
  {
   "cell_type": "code",
   "execution_count": 30,
   "metadata": {},
   "outputs": [],
   "source": [
    "def train_epoch_with_teacher(student_model, teacher_model, loader, opt, alpha=0.5):\n",
    "    student_model.train(True)\n",
    "    teacher_model.train(False)\n",
    "\n",
    "    loss1 = nn.MSELoss()\n",
    "    loss2 = nn.CrossEntropyLoss()\n",
    "\n",
    "    for i, data in enumerate(loader, 0):\n",
    "        X, y = data[0], data[1]\n",
    "\n",
    "        opt.zero_grad()\n",
    "        s_y_ = student_model(X)#.float()\n",
    "        t_y_ = teacher_model(X)#.float()\n",
    "        \n",
    "        loss_value = alpha * loss2(s_y_, y) + (1 - alpha) * loss1(s_y_, t_y_)\n",
    "\n",
    "        loss_value.backward()\n",
    "        opt.step()\n",
    "\n",
    "def train_resnet_with_teacher(student_model, teacher_model, epochs=100, batch_size=128):\n",
    "    opt = optim.SGD(student_model.parameters(), lr=0.1, weight_decay=0.0001, momentum=0.9)\n",
    "    \n",
    "    accuracies = []\n",
    "    train_loader = DataLoader(dev_train, batch_size=batch_size)\n",
    "    for epoch in tqdm(range(epochs)):\n",
    "        if epoch == 40 or epoch == 80:\n",
    "            for pg in opt.param_groups:\n",
    "                pg['lr'] /= 10.0\n",
    "\n",
    "        train_epoch_with_teacher(student_model, teacher_model, train_loader, opt)\n",
    "        acc = get_accuracy_on(student_model, dev_test)\n",
    "        accuracies.append(acc)\n",
    "        print(f'\\r epoch: [{epoch+1}/{epochs}], accuracy: {acc}', end='')\n",
    "    \n",
    "    total_acc = get_accuracy_on(student_model, all_test)\n",
    "    print (f\"\\naccuracy on all_test: {total_acc}\")\n",
    "    return accuracies"
   ]
  },
  {
   "cell_type": "markdown",
   "metadata": {},
   "source": [
    "## Train student with teacher"
   ]
  },
  {
   "cell_type": "code",
   "execution_count": 31,
   "metadata": {},
   "outputs": [
    {
     "data": {
      "application/vnd.jupyter.widget-view+json": {
       "model_id": "2daf543103b44c04a8d3a12bf6bf567a",
       "version_major": 2,
       "version_minor": 0
      },
      "text/plain": [
       "  0%|          | 0/100 [00:00<?, ?it/s]"
      ]
     },
     "metadata": {},
     "output_type": "display_data"
    },
    {
     "name": "stdout",
     "output_type": "stream",
     "text": [
      " epoch: [100/100], accuracy: 0.915\n",
      "accuracy on all_test: 0.9005\n"
     ]
    }
   ],
   "source": [
    "epochs=100\n",
    "student_with_teacher_accuracies = train_resnet_with_teacher(student_model, teacher_model, epochs=epochs)"
   ]
  },
  {
   "cell_type": "code",
   "execution_count": 32,
   "metadata": {},
   "outputs": [
    {
     "data": {
      "image/png": "[encoded data removed]",
      "text/plain": [
       "<Figure size 1080x360 with 1 Axes>"
      ]
     },
     "metadata": {
      "needs_background": "light"
     },
     "output_type": "display_data"
    }
   ],
   "source": [
    "dat = pd.DataFrame({'t':teacher_accuracies, 's':student_accuracies, \n",
    "                    'st': student_with_teacher_accuracies})\n",
    "dat['epoch'] = np.arange(epochs)\n",
    "\n",
    "fig, ax = plt.subplots(1, 1, figsize=(15,5))\n",
    "ax.plot(dat['epoch'], dat['s'], color='black', label='Student')\n",
    "ax.plot(dat['epoch'], dat['t'], color='blue', label='Teacher')\n",
    "ax.plot(dat['epoch'], dat['st'], color='red', label='StudentWithTeacher')\n",
    "ax.set_ylabel(\"acc\")\n",
    "ax.set_xlabel(\"epoch\")\n",
    "ax.legend();"
   ]
  },
  {
   "cell_type": "code",
   "execution_count": null,
   "metadata": {},
   "outputs": [],
   "source": []
  }
 ],
 "metadata": {
  "kernelspec": {
   "display_name": "Python 3",
   "language": "python",
   "name": "python3"
  },
  "language_info": {
   "codemirror_mode": {
    "name": "ipython",
    "version": 3
   },
   "file_extension": ".py",
   "mimetype": "text/x-python",
   "name": "python",
   "nbconvert_exporter": "python",
   "pygments_lexer": "ipython3",
   "version": "3.8.9"
  }
 },
 "nbformat": 4,
 "nbformat_minor": 4
}
